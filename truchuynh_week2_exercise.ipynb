{
 "cells": [
  {
   "cell_type": "code",
   "execution_count": 2,
   "id": "b5020b5e-f2e7-4d7b-8cd6-949ef8f14968",
   "metadata": {},
   "outputs": [
    {
     "name": "stdout",
     "output_type": "stream",
     "text": [
      "Collecting gdown\n",
      "  Downloading gdown-5.2.0-py3-none-any.whl.metadata (5.8 kB)\n",
      "Requirement already satisfied: beautifulsoup4 in c:\\users\\truc huynh\\anaconda3\\lib\\site-packages (from gdown) (4.12.2)\n",
      "Requirement already satisfied: filelock in c:\\users\\truc huynh\\anaconda3\\lib\\site-packages (from gdown) (3.13.1)\n",
      "Requirement already satisfied: requests[socks] in c:\\users\\truc huynh\\anaconda3\\lib\\site-packages (from gdown) (2.31.0)\n",
      "Requirement already satisfied: tqdm in c:\\users\\truc huynh\\anaconda3\\lib\\site-packages (from gdown) (4.65.0)\n",
      "Requirement already satisfied: soupsieve>1.2 in c:\\users\\truc huynh\\anaconda3\\lib\\site-packages (from beautifulsoup4->gdown) (2.5)\n",
      "Requirement already satisfied: charset-normalizer<4,>=2 in c:\\users\\truc huynh\\anaconda3\\lib\\site-packages (from requests[socks]->gdown) (2.0.4)\n",
      "Requirement already satisfied: idna<4,>=2.5 in c:\\users\\truc huynh\\anaconda3\\lib\\site-packages (from requests[socks]->gdown) (3.4)\n",
      "Requirement already satisfied: urllib3<3,>=1.21.1 in c:\\users\\truc huynh\\anaconda3\\lib\\site-packages (from requests[socks]->gdown) (2.0.7)\n",
      "Requirement already satisfied: certifi>=2017.4.17 in c:\\users\\truc huynh\\anaconda3\\lib\\site-packages (from requests[socks]->gdown) (2024.2.2)\n",
      "Requirement already satisfied: PySocks!=1.5.7,>=1.5.6 in c:\\users\\truc huynh\\anaconda3\\lib\\site-packages (from requests[socks]->gdown) (1.7.1)\n",
      "Requirement already satisfied: colorama in c:\\users\\truc huynh\\anaconda3\\lib\\site-packages (from tqdm->gdown) (0.4.6)\n",
      "Downloading gdown-5.2.0-py3-none-any.whl (18 kB)\n",
      "Installing collected packages: gdown\n",
      "Successfully installed gdown-5.2.0\n"
     ]
    }
   ],
   "source": [
    "!pip install gdown"
   ]
  },
  {
   "cell_type": "code",
   "execution_count": 1,
   "id": "294c1cbb-da89-43d8-9f98-cb5efb171efe",
   "metadata": {},
   "outputs": [],
   "source": [
    "import pandas as pd\n",
    "import numpy as np\n",
    "import gdown "
   ]
  },
  {
   "cell_type": "markdown",
   "id": "c1a5fa75-29d8-4c30-813b-73eea060934f",
   "metadata": {},
   "source": [
    "execise 1"
   ]
  },
  {
   "cell_type": "code",
   "execution_count": 13,
   "id": "251a9dbd-1164-40f4-9b6a-d6df6ef68ddd",
   "metadata": {},
   "outputs": [
    {
     "name": "stdout",
     "output_type": "stream",
     "text": [
      "max_value:  5\n",
      "max_value:  5\n",
      "max_value:  5\n",
      "max_value:  5\n",
      "max_value:  10\n",
      "max_value:  12\n",
      "max_value:  33\n",
      "max_value:  33\n"
     ]
    }
   ],
   "source": [
    "num_list = [3, 4, 5, 1, -44 , 5 ,10, 12 ,33, 1]\n",
    "k = 3\n",
    "\n",
    "for i in range(len(num_list) - k+1):\n",
    "    num_list_k = num_list[i:i+k]\n",
    "    max_value  = max(num_list_k)\n",
    "    print('max_value: ', max_value)\n",
    "    "
   ]
  },
  {
   "cell_type": "code",
   "execution_count": 10,
   "id": "ff7aeade-b09d-46fc-83bc-2a5ddd59d740",
   "metadata": {},
   "outputs": [
    {
     "name": "stdout",
     "output_type": "stream",
     "text": [
      "[5, 5, 5, 5, 10, 12, 33, 33]\n",
      "[5, 5, 5]\n"
     ]
    }
   ],
   "source": [
    "def max_kernel(num_list, k):\n",
    "    list_max_kernel = []\n",
    "    for i in range(len(num_list) - k+1):\n",
    "        num_list_k = num_list[i:i+k]\n",
    "        max_value  = max(num_list_k)\n",
    "        list_max_kernel.append(max_value)\n",
    "    print(list_max_kernel)\n",
    "    \n",
    "max_kernel([3 , 4 , 5 , 1 , -44 , 5 ,10 , 12 ,33 , 1],3)\n",
    "max_kernel([3 , 4 , 5 , 1 , -44] , 3)"
   ]
  },
  {
   "cell_type": "markdown",
   "id": "471fb3f4-5c05-4c22-b540-d19986fdfc36",
   "metadata": {},
   "source": [
    "exercise 2"
   ]
  },
  {
   "cell_type": "code",
   "execution_count": 12,
   "id": "f384a779-c154-4e0a-8843-97656b366f17",
   "metadata": {},
   "outputs": [
    {
     "name": "stdin",
     "output_type": "stream",
     "text": [
      "Please input string:  smiles\n"
     ]
    },
    {
     "name": "stdout",
     "output_type": "stream",
     "text": [
      "Number each character: \n",
      " {'m': 1, 's': 2, 'i': 1, 'l': 1, 'e': 1}\n"
     ]
    }
   ],
   "source": [
    "def _cnt_character_():\n",
    "    string = input('Please input string: ')\n",
    "    \n",
    "    dict_ = {}\n",
    "    \n",
    "    character = list(set([x for x in string]))\n",
    "    \n",
    "    for i in range(len(character)):\n",
    "         dict_[character[i]] = len([x for x in string if x == character[i]])\n",
    "        \n",
    "    print('Number each character: \\n',dict_)\n",
    "\n",
    "_cnt_character_ ()"
   ]
  },
  {
   "cell_type": "markdown",
   "id": "17386105-f428-411c-9005-b8dcda9fb7ef",
   "metadata": {},
   "source": [
    "exercise 3"
   ]
  },
  {
   "cell_type": "code",
   "execution_count": 6,
   "id": "e19edfc1-3094-4615-bc24-94f46df5ea6c",
   "metadata": {},
   "outputs": [
    {
     "name": "stdout",
     "output_type": "stream",
     "text": [
      "Number each word: \n",
      " {'warrior': 1, 'employed': 1, 'the': 5, 'when': 2, 'and': 1, 'solve': 1, 'value': 1, 'change': 1, 'way': 1, 'looking': 1, 'just': 2, 'lay': 1, 'majority': 1, 'for': 3, 'can': 3, 'everything': 1, 'kind': 1, 'at': 1, 'they': 1, 'one': 4, 'busy': 1, 'help': 1, 'enough': 1, 'is': 3, 'you': 3, 'positive': 1, 'morning': 1, 'conquers': 1, 'become': 2, 'his': 2, 'people': 1, 'firm': 1, 'up': 1, 'a': 7, 'life': 2, 'others': 1, 'makes': 1, 'day': 1, 'try': 2, 'but': 1, 'successful': 2, 'ready': 1, 'of': 4, 'are': 1, 'secret': 1, 'bricks': 1, 'him': 1, 'he': 1, 'it': 2, 'get': 2, 'too': 1, 'want': 2, 'who': 3, 'problems': 1, 'to': 3, 'from': 1, 'rather': 1, 'comes': 2, 'opportunity': 1, 'we': 3, 'have': 1, 'them': 1, 'foundation': 1, 'came': 1, 'not': 1, 'usually': 1, 'mightiest': 1, 'will': 2, 'if': 1, 'thinking': 1, 'with': 4, 'thought': 1, 'mistakes': 1, 'himself': 1, 'courage': 1, 'again': 1, 'what': 1, 'success': 3, 'cannot': 1, 'in': 4, 'man': 6, 'be': 1, 'profit': 1, 'whole': 1, 'those': 1, 'other': 1, 'thrown': 1, 'small': 1, 'different': 1, 'your': 1}\n"
     ]
    },
    {
     "name": "stderr",
     "output_type": "stream",
     "text": [
      "Downloading...\n",
      "From: https://drive.google.com/uc?id=1IBScGdW2xlNsc9v5zSAya548kNgiOrko\n",
      "To: C:\\Users\\Truc Huynh\\P1_data.txt\n",
      "\n",
      "  0%|          | 0.00/747 [00:00<?, ?B/s]\n",
      "100%|##########| 747/747 [00:00<?, ?B/s] \n"
     ]
    }
   ],
   "source": [
    "!gdown https://drive.google.com/uc?id=1IBScGdW2xlNsc9v5zSAya548kNgiOrko\n",
    "file_path = './P1_data.txt'\n",
    "\n",
    "with open(file_path, 'r') as file:\n",
    "    content = file.read()\n",
    "    file.close()\n",
    "def word_count(content):\n",
    "  \n",
    "    dict_ = {}\n",
    "    \n",
    "    word_list = content.replace('\\n',' ').lower().split(' ')\n",
    "    \n",
    "    character = list(set([x for x in word_list]))\n",
    "    \n",
    "    for i in range(len(character)):\n",
    "        dict_[character[i]] = len([x for x in word_list if x == character[i]])\n",
    "\n",
    "    print('Number each word: \\n',dict_)\n",
    "\n",
    "word_count(content)"
   ]
  },
  {
   "cell_type": "code",
   "execution_count": 18,
   "id": "f0424a21-ffd5-403f-b053-d49087c56d8d",
   "metadata": {},
   "outputs": [
    {
     "name": "stderr",
     "output_type": "stream",
     "text": [
      "Downloading...\n",
      "From: https://drive.google.com/uc?id=1IBScGdW2xlNsc9v5zSAya548kNgiOrko\n",
      "To: C:\\Users\\Truc Huynh\\P1_data.txt\n",
      "\n",
      "  0%|          | 0.00/747 [00:00<?, ?B/s]\n",
      "100%|##########| 747/747 [00:00<?, ?B/s] \n"
     ]
    },
    {
     "data": {
      "text/plain": [
       "6"
      ]
     },
     "execution_count": 18,
     "metadata": {},
     "output_type": "execute_result"
    }
   ],
   "source": [
    "!gdown https://drive.google.com/uc?id=1IBScGdW2xlNsc9v5zSAya548kNgiOrko\n",
    "file_path = './P1_data.txt'\n",
    "\n",
    "with open(file_path, 'r') as file:\n",
    "    content = file.read()\n",
    "    file.close()\n",
    "def word_count(content):\n",
    "  \n",
    "    dict_ = {}\n",
    "    \n",
    "    word_list = content.replace('\\n',' ').lower().split(' ')\n",
    "    \n",
    "    character = list(set([x for x in word_list]))\n",
    "    \n",
    "    for i in range(len(character)):\n",
    "        dict_[character[i]] = len([x for x in word_list if x == character[i]])\n",
    "\n",
    "    return dict_\n",
    "\n",
    "result = word_count(content)\n",
    "result['man']"
   ]
  },
  {
   "cell_type": "markdown",
   "id": "8eec74d2-cdfc-4564-942b-6651f70ed81d",
   "metadata": {},
   "source": [
    "exercise 4"
   ]
  },
  {
   "cell_type": "code",
   "execution_count": 110,
   "id": "ba335baf-4ece-4a8a-90a6-a54af5530464",
   "metadata": {},
   "outputs": [
    {
     "name": "stdout",
     "output_type": "stream",
     "text": [
      "3\n"
     ]
    }
   ],
   "source": [
    "def levenshtein_distance(str1, str2):\n",
    "    distances = [[0]*(len(str2)+1) for i in range(len(str1)+1)]\n",
    "\n",
    "    for t1 in range(len(str1) + 1):\n",
    "        distances[t1][0] = t1\n",
    "\n",
    "    for t2 in range(len(str2) + 1):\n",
    "        distances[0][t2] = t2\n",
    "\n",
    "    a = 0\n",
    "    b = 0\n",
    "    c = 0\n",
    "\n",
    "    for t1 in range(1, len(str1) + 1):\n",
    "        for t2 in range(1, len(str2) + 1):\n",
    "            if (str1[t1-1] == str2[t2-1]):\n",
    "                distances[t1][t2] = distances[t1 - 1][t2 - 1]\n",
    "            else:\n",
    "                a = distances[t1][t2 - 1]\n",
    "                b = distances[t1 - 1][t2]\n",
    "                c = distances[t1 - 1][t2 - 1]\n",
    "\n",
    "                if (a <= b and a <= c):\n",
    "                    distances[t1][t2] = a + 1\n",
    "                elif (b <= a and b <= c):\n",
    "                    distances[t1][t2] = b + 1\n",
    "                else:\n",
    "                    distances[t1][t2] = c + 1\n",
    "\n",
    "    return distances[len(str1)][len(str2)]\n",
    "\n",
    "print(levenshtein_distance(\"hola\", \"hello\"))"
   ]
  },
  {
   "cell_type": "markdown",
   "id": "922c6d35-212f-4db8-8365-0c6a4162049d",
   "metadata": {},
   "source": [
    "exercise 5"
   ]
  },
  {
   "cell_type": "code",
   "execution_count": 19,
   "id": "8154d2ac-1a8a-4dc0-a392-92e700dcc047",
   "metadata": {},
   "outputs": [
    {
     "ename": "IndentationError",
     "evalue": "expected an indented block after 'for' statement on line 4 (2604356067.py, line 7)",
     "output_type": "error",
     "traceback": [
      "\u001b[1;36m  Cell \u001b[1;32mIn[19], line 7\u001b[1;36m\u001b[0m\n\u001b[1;33m    if N in list_of_numbers :\u001b[0m\n\u001b[1;37m    ^\u001b[0m\n\u001b[1;31mIndentationError\u001b[0m\u001b[1;31m:\u001b[0m expected an indented block after 'for' statement on line 4\n"
     ]
    }
   ],
   "source": [
    "def check_the_number ( N ) :\n",
    "    list_of_numbers = []\n",
    "    result = \"\"\n",
    "    for i in range (1 , 5) :\n",
    "        # Your code here\n",
    "        #Su dung append them i vao trong list_of_number\n",
    "    if N in list_of_numbers :\n",
    "        results = \" True \"\n",
    "    if N not in list_of_numbers :\n",
    "        results = \" False \"\n",
    "        return results\n",
    "\n",
    "N = 7\n",
    "assert check_the_number ( N ) == \" False \"\n",
    "N = 2\n",
    "results = check_the_number ( N )\n",
    "print ( results )"
   ]
  },
  {
   "cell_type": "markdown",
   "id": "aa542283-e7de-4532-987e-5326784ccdee",
   "metadata": {},
   "source": [
    "exercise 6"
   ]
  },
  {
   "cell_type": "code",
   "execution_count": 22,
   "id": "3dcefcec-11d9-4e59-84ed-60b3a37d74b3",
   "metadata": {},
   "outputs": [
    {
     "ename": "SyntaxError",
     "evalue": "invalid syntax (2596496672.py, line 6)",
     "output_type": "error",
     "traceback": [
      "\u001b[1;36m  Cell \u001b[1;32mIn[22], line 6\u001b[1;36m\u001b[0m\n\u001b[1;33m    elif i > max :\u001b[0m\n\u001b[1;37m    ^\u001b[0m\n\u001b[1;31mSyntaxError\u001b[0m\u001b[1;31m:\u001b[0m invalid syntax\n"
     ]
    }
   ],
   "source": [
    "def my_function ( data , max , min) :\n",
    "    result = []\n",
    "    for i in data :\n",
    "        # Your code here\n",
    "        # Neu i < min thi them min vao result\n",
    "        elif i > max :\n",
    "            result . append ( max )\n",
    "        else :\n",
    "            result . append ( i )\n",
    "    return result\n",
    "my_list = [5 , 2 , 5 , 0 , 1]\n",
    "max = 1\n",
    "min = 0\n",
    "#assert my_function (max = max , min = min , data = my_list ) == [1 , 1 , 1 , 0 , 1]\n",
    "my_list = [10 , 2 , 5 , 0 , 1]\n",
    "max = 2\n",
    "min = 1\n",
    "print ( my_function (max = max , min = min , data = my_list ) )"
   ]
  },
  {
   "cell_type": "markdown",
   "id": "3fd7109d-e2b6-4c67-8278-5c4e45784f3b",
   "metadata": {},
   "source": [
    "exercise 7"
   ]
  },
  {
   "cell_type": "code",
   "execution_count": 33,
   "id": "81c582b3-33c4-43c2-8296-c60b68d5d922",
   "metadata": {},
   "outputs": [
    {
     "name": "stdout",
     "output_type": "stream",
     "text": [
      "[1, 2, 3, 4, 0, 0]\n"
     ]
    }
   ],
   "source": [
    "def my_function(x , y):\n",
    "    list_ = x + y\n",
    "    return list_\n",
    "\n",
    "list_num1 = ['a', 2 , 5]\n",
    "list_num2 = [1 , 1]\n",
    "list_num3 = [0 , 0]\n",
    "my_function( list_num1 , my_function( list_num2 , list_num3 ) )\n",
    "\n",
    "list_num1 = [1 , 2]\n",
    "list_num2 = [3 , 4]\n",
    "list_num3 = [0 , 0]\n",
    "print ( my_function ( list_num1 , my_function ( list_num2 , list_num3 ) ) )"
   ]
  },
  {
   "cell_type": "markdown",
   "id": "19a44150-5d2b-434a-9af2-249002e00281",
   "metadata": {},
   "source": [
    "exercise 8 & 9"
   ]
  },
  {
   "cell_type": "code",
   "execution_count": 37,
   "id": "6f89d71c-ced6-41c0-8953-f347860339d9",
   "metadata": {},
   "outputs": [
    {
     "name": "stdout",
     "output_type": "stream",
     "text": [
      "-1\n",
      "9\n"
     ]
    }
   ],
   "source": [
    "def my_function_min(n):\n",
    "    return min(n)\n",
    "\n",
    "my_list = [1 , 2 , 3 , -1]\n",
    "print ( my_function_min ( my_list ) )\n",
    "\n",
    "\n",
    "def my_function_max(n):\n",
    "    return max(n)\n",
    "\n",
    "my_list = [1 , 9 , 9 , 0]\n",
    "print ( my_function_max ( my_list ) )"
   ]
  },
  {
   "cell_type": "markdown",
   "id": "80c2e246-73d1-4047-afdc-8bc6d080e5fa",
   "metadata": {},
   "source": [
    "exercise 10"
   ]
  },
  {
   "cell_type": "code",
   "execution_count": 50,
   "id": "6373ccd8-2675-4462-adb0-cb3ec16aa820",
   "metadata": {},
   "outputs": [
    {
     "data": {
      "text/plain": [
       "[False, True, False, False]"
      ]
     },
     "execution_count": 50,
     "metadata": {},
     "output_type": "execute_result"
    }
   ],
   "source": [
    "def My_function (integers, number = 1) :\n",
    "    list_ =[]\n",
    "    for i in range(len(integers)):\n",
    "        list_.append(integers[i] == number)\n",
    "    return list_\n",
    "    \n",
    "\n",
    "integers =[1 , 2 , 3 , 4]\n",
    "number = 2\n",
    "My_function (integers, number)"
   ]
  },
  {
   "cell_type": "markdown",
   "id": "7c1b1080-ee77-4554-aa43-deaef4840899",
   "metadata": {},
   "source": [
    "exercise 11"
   ]
  },
  {
   "cell_type": "code",
   "execution_count": 55,
   "id": "099ade1a-a518-425a-821d-2657c3e5c596",
   "metadata": {},
   "outputs": [],
   "source": [
    "def my_function ( list_nums = [0 , 1 , 2]) :\n",
    "    var = 0\n",
    "    for i in list_nums :\n",
    "        var += i\n",
    "    return (var/len(list_nums))\n",
    "\n",
    "my_function ( list_nums = [0 , 1 , 2])"
   ]
  },
  {
   "cell_type": "markdown",
   "id": "809d2810-65ab-40bc-9993-35976a514624",
   "metadata": {},
   "source": [
    "exercise 12"
   ]
  },
  {
   "cell_type": "code",
   "execution_count": 62,
   "id": "81d5a8fb-fb2d-4584-8547-845e522465ef",
   "metadata": {},
   "outputs": [
    {
     "data": {
      "text/plain": [
       "[3, 6]"
      ]
     },
     "execution_count": 62,
     "metadata": {},
     "output_type": "execute_result"
    }
   ],
   "source": [
    "def my_function (data) :\n",
    "    var = []\n",
    "    for i in data :\n",
    "    # Your code here\n",
    "    # Neu i chia het cho 3 thi them i vao list var\n",
    "        if i%3 ==0 :\n",
    "            var.append(i)\n",
    "    return var\n",
    "\n",
    "my_function ([1 , 2 , 3 , 5 , 6])"
   ]
  },
  {
   "cell_type": "markdown",
   "id": "38bcaf5e-28f0-499b-9521-d39e393415a0",
   "metadata": {},
   "source": [
    "exercise 13"
   ]
  },
  {
   "cell_type": "code",
   "execution_count": 67,
   "id": "9b96b85b-f5ec-467c-977f-89fb9cd4df5d",
   "metadata": {},
   "outputs": [
    {
     "data": {
      "text/plain": [
       "24"
      ]
     },
     "execution_count": 67,
     "metadata": {},
     "output_type": "execute_result"
    }
   ],
   "source": [
    "def my_function ( y ) :\n",
    "    var = 1\n",
    "    while ( y > 1) :\n",
    "        var= var*y\n",
    "        y = y-1\n",
    "    return var\n",
    "\n",
    "my_function(4)"
   ]
  },
  {
   "cell_type": "markdown",
   "id": "a7198fa3-b3e3-4f6b-85f1-f1b2ac9cdf1b",
   "metadata": {},
   "source": [
    "exercise 14"
   ]
  },
  {
   "cell_type": "code",
   "execution_count": 98,
   "id": "95c30472-f72b-4e44-8463-bbc1e150f1e5",
   "metadata": {},
   "outputs": [
    {
     "data": {
      "text/plain": [
       "'tocirpa'"
      ]
     },
     "execution_count": 98,
     "metadata": {},
     "output_type": "execute_result"
    }
   ],
   "source": [
    "def my_function ( x ) :\n",
    "    character = list([a for a in x])\n",
    "    list_ = []\n",
    "    for i in range(len(character)):\n",
    "        list_.append(character[len(character)-1-i])\n",
    "        result = ''.join(list_)\n",
    "    return result\n",
    "\n",
    "my_function ( 'apricot') "
   ]
  },
  {
   "cell_type": "markdown",
   "id": "b118866c-4598-4bcf-8eae-6149a76781f6",
   "metadata": {},
   "source": [
    "exercise 15"
   ]
  },
  {
   "cell_type": "code",
   "execution_count": 101,
   "id": "766dfe19-1446-4f63-a8e5-ee87a1b1a6be",
   "metadata": {},
   "outputs": [
    {
     "data": {
      "text/plain": [
       "['T', 'T', 'T', 'N']"
      ]
     },
     "execution_count": 101,
     "metadata": {},
     "output_type": "execute_result"
    }
   ],
   "source": [
    "def function_helper ( x ) :\n",
    "    # Your code here\n",
    "    # Neu x >0 tra ve ’T ’, nguoc lai tra ve ’N’\n",
    "    if x > 0:\n",
    "        return 'T'\n",
    "    else: \n",
    "        return 'N'\n",
    "\n",
    "def my_function ( data ) :\n",
    "    res = [ function_helper ( x ) for x in data ]\n",
    "    return res\n",
    "\n",
    "data = [2 , 3 , 5 , -1]\n",
    "my_function ( data )"
   ]
  },
  {
   "cell_type": "markdown",
   "id": "7caba33d-0180-4d77-889a-fe775ddb0470",
   "metadata": {},
   "source": [
    "exercise 16"
   ]
  },
  {
   "cell_type": "code",
   "execution_count": 105,
   "id": "c049e83a-9d3f-4d8b-9135-5785b64479fd",
   "metadata": {},
   "outputs": [
    {
     "data": {
      "text/plain": [
       "[9, 8, 1]"
      ]
     },
     "execution_count": 105,
     "metadata": {},
     "output_type": "execute_result"
    }
   ],
   "source": [
    "def function_helper (x , data ) :\n",
    "    for i in data :\n",
    "    # Your code here\n",
    "    # Neu x == i thi return 0\n",
    "        if x == i:\n",
    "            return 0\n",
    "    return 1\n",
    "\n",
    "def my_function ( data ) :\n",
    "    res = []\n",
    "    for i in data :\n",
    "        if function_helper (i , res ) :\n",
    "            res . append ( i )\n",
    "    return res\n",
    "\n",
    "lst = [9 , 9 , 8 , 1 , 1]\n",
    "my_function ( lst )"
   ]
  }
 ],
 "metadata": {
  "kernelspec": {
   "display_name": "Python 3 (ipykernel)",
   "language": "python",
   "name": "python3"
  },
  "language_info": {
   "codemirror_mode": {
    "name": "ipython",
    "version": 3
   },
   "file_extension": ".py",
   "mimetype": "text/x-python",
   "name": "python",
   "nbconvert_exporter": "python",
   "pygments_lexer": "ipython3",
   "version": "3.11.7"
  }
 },
 "nbformat": 4,
 "nbformat_minor": 5
}
